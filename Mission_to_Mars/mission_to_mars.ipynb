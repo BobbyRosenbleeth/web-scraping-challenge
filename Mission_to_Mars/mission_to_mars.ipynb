{
 "cells": [
  {
   "cell_type": "code",
   "execution_count": 1,
   "id": "94733abf",
   "metadata": {},
   "outputs": [],
   "source": [
    "from splinter import Browser\n",
    "import pandas as pd\n",
    "from bs4 import BeautifulSoup\n",
    "from webdriver_manager.chrome import ChromeDriverManager"
   ]
  },
  {
   "cell_type": "code",
   "execution_count": 2,
   "id": "6da20ee4",
   "metadata": {},
   "outputs": [],
   "source": [
    "# Setup splinter\n",
    "executable_path = {'executable_path': ChromeDriverManager().install()}\n",
    "browser = Browser('chrome', **executable_path, headless=False)"
   ]
  },
  {
   "cell_type": "code",
   "execution_count": 5,
   "id": "a4affafd",
   "metadata": {},
   "outputs": [
    {
     "name": "stdout",
     "output_type": "stream",
     "text": [
      "NASA's Mars 2020 Heads Into the Test Chamber\n",
      "In this time-lapse video taken at JPL, engineers move the Mars 2020 rover into a large vacuum chamber for testing in Mars-like environmental conditions.\n"
     ]
    }
   ],
   "source": [
    "# Scrape the Mars News Site and assign text to variables.\n",
    "news_url = \"https://redplanetscience.com/\"\n",
    "browser.visit(news_url)\n",
    "news_html = browser.html\n",
    "news_soup = BeautifulSoup(news_html, \"html.parser\")\n",
    "news_title = news_soup.find(\"div\", class_=\"content_title\").text\n",
    "news_paragraph = news_soup.find(\"div\", class_=\"article_teaser_body\").text\n",
    "print(news_title)\n",
    "print(news_paragraph)"
   ]
  },
  {
   "cell_type": "code",
   "execution_count": 6,
   "id": "c2d2e51e",
   "metadata": {},
   "outputs": [
    {
     "name": "stdout",
     "output_type": "stream",
     "text": [
      "https://spaceimages-mars.com/image/featured/mars2.jpg\n"
     ]
    }
   ],
   "source": [
    "# Save the image URL to a variable\n",
    "image_url = \"https://spaceimages-mars.com\"\n",
    "browser.visit(image_url)\n",
    "image_html = browser.html\n",
    "image_soup = BeautifulSoup(image_html, \"html.parser\")\n",
    "link_element = browser.links.find_by_partial_href(\"jpg\").first\n",
    "featured_image_url = link_element[\"href\"]\n",
    "print(featured_image_url)"
   ]
  },
  {
   "cell_type": "code",
   "execution_count": 4,
   "id": "9ea2dfb0",
   "metadata": {},
   "outputs": [
    {
     "data": {
      "text/html": [
       "<div>\n",
       "<style scoped>\n",
       "    .dataframe tbody tr th:only-of-type {\n",
       "        vertical-align: middle;\n",
       "    }\n",
       "\n",
       "    .dataframe tbody tr th {\n",
       "        vertical-align: top;\n",
       "    }\n",
       "\n",
       "    .dataframe thead th {\n",
       "        text-align: right;\n",
       "    }\n",
       "</style>\n",
       "<table border=\"1\" class=\"dataframe\">\n",
       "  <thead>\n",
       "    <tr style=\"text-align: right;\">\n",
       "      <th></th>\n",
       "      <th>Mars - Earth Comparison</th>\n",
       "      <th>Mars</th>\n",
       "      <th>Earth</th>\n",
       "    </tr>\n",
       "  </thead>\n",
       "  <tbody>\n",
       "    <tr>\n",
       "      <th>0</th>\n",
       "      <td>Diameter:</td>\n",
       "      <td>6,779 km</td>\n",
       "      <td>12,742 km</td>\n",
       "    </tr>\n",
       "    <tr>\n",
       "      <th>1</th>\n",
       "      <td>Mass:</td>\n",
       "      <td>6.39 × 10^23 kg</td>\n",
       "      <td>5.97 × 10^24 kg</td>\n",
       "    </tr>\n",
       "    <tr>\n",
       "      <th>2</th>\n",
       "      <td>Moons:</td>\n",
       "      <td>2</td>\n",
       "      <td>1</td>\n",
       "    </tr>\n",
       "    <tr>\n",
       "      <th>3</th>\n",
       "      <td>Distance from Sun:</td>\n",
       "      <td>227,943,824 km</td>\n",
       "      <td>149,598,262 km</td>\n",
       "    </tr>\n",
       "    <tr>\n",
       "      <th>4</th>\n",
       "      <td>Length of Year:</td>\n",
       "      <td>687 Earth days</td>\n",
       "      <td>365.24 days</td>\n",
       "    </tr>\n",
       "    <tr>\n",
       "      <th>5</th>\n",
       "      <td>Temperature:</td>\n",
       "      <td>-87 to -5 °C</td>\n",
       "      <td>-88 to 58°C</td>\n",
       "    </tr>\n",
       "  </tbody>\n",
       "</table>\n",
       "</div>"
      ],
      "text/plain": [
       "  Mars - Earth Comparison             Mars            Earth\n",
       "0               Diameter:         6,779 km        12,742 km\n",
       "1                   Mass:  6.39 × 10^23 kg  5.97 × 10^24 kg\n",
       "2                  Moons:                2                1\n",
       "3      Distance from Sun:   227,943,824 km   149,598,262 km\n",
       "4         Length of Year:   687 Earth days      365.24 days\n",
       "5            Temperature:     -87 to -5 °C      -88 to 58°C"
      ]
     },
     "execution_count": 4,
     "metadata": {},
     "output_type": "execute_result"
    }
   ],
   "source": [
    "# Convert Mars Facts to a table string using Pandas.\n",
    "facts_url = \"https://galaxyfacts-mars.com\"\n",
    "table_string = pd.read_html(facts_url,header=0)\n",
    "table_string[0]"
   ]
  },
  {
   "cell_type": "code",
   "execution_count": 9,
   "id": "248aa4d4",
   "metadata": {},
   "outputs": [
    {
     "name": "stdout",
     "output_type": "stream",
     "text": [
      "[{'title': 'Cerberus Hemisphere', 'img_url': 'https://marshemispheres.com/images/full.jpg'}, {'title': 'Schiaparelli Hemisphere', 'img_url': 'https://marshemispheres.com/images/schiaparelli_enhanced-full.jpg'}, {'title': 'Syrtis Major Hemisphere', 'img_url': 'https://marshemispheres.com/images/syrtis_major_enhanced-full.jpg'}, {'title': 'Valles Marineris Hemisphere', 'img_url': 'https://marshemispheres.com/images/valles_marineris_enhanced-full.jpg'}]\n"
     ]
    }
   ],
   "source": [
    "# Create a dictionary with Mars's hemispheres\n",
    "hemi_url = \"https://marshemispheres.com/\"\n",
    "browser.visit(hemi_url)\n",
    "hemi_html = browser.html\n",
    "hemi_soup = BeautifulSoup(hemi_html, \"html.parser\")\n",
    "image = browser.find_by_tag(\"img\")\n",
    "hemi_pics = []\n",
    "for i in range(3, len(image)):\n",
    "    image[i].click()\n",
    "    hemi_pic_link = browser.links.find_by_partial_text(\"Sample\")[\"href\"]\n",
    "    hemi_title = browser.find_by_tag(\"h2\").text\n",
    "    hemi_title = hemi_title.split()\n",
    "    hemi_title_modified = hemi_title[:-1]\n",
    "    hemi_title_modified = \" \".join(hemi_title_modified)\n",
    "    hemi_pics.append({\"title\": hemi_title_modified, \"img_url\": hemi_pic_link})\n",
    "    browser.back()\n",
    "print(hemi_pics)"
   ]
  }
 ],
 "metadata": {
  "kernelspec": {
   "display_name": "Python 3 (ipykernel)",
   "language": "python",
   "name": "python3"
  },
  "language_info": {
   "codemirror_mode": {
    "name": "ipython",
    "version": 3
   },
   "file_extension": ".py",
   "mimetype": "text/x-python",
   "name": "python",
   "nbconvert_exporter": "python",
   "pygments_lexer": "ipython3",
   "version": "3.9.13"
  }
 },
 "nbformat": 4,
 "nbformat_minor": 5
}
